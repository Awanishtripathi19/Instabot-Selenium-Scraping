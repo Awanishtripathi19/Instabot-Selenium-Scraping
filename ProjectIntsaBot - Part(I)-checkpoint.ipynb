{
 "cells": [
  {
   "cell_type": "markdown",
   "id": "ccf60682",
   "metadata": {},
   "source": [
    "## Usage Instructions"
   ]
  },
  {
   "cell_type": "markdown",
   "id": "7c2daadb",
   "metadata": {},
   "source": [
    "* Run the complete code once but if you got any error message Please try to run each Cell separatly.\n",
    "* Do not make any changes in the code except the SAMPLE_USERNAME and SAMPLE_PASSWORD. you can easily change them by refering the code below.\n",
    "* This code is written and tested with 4G network(Jio). if you are using a 3G connection, you might want to change the time gap between several Cells(at the end of some cells there is a line of code whose parameters you might want to alter.\n",
    "* Recommended network is Airtel 4G or Jio 4G\n",
    "* Sometimes you will feel like the website is frozen. No! Its not. The code is still running doing its work. You will notice this specially when the list of followers is being scrolled down. it will take some time to read through all the follower's usernames."
   ]
  },
  {
   "cell_type": "markdown",
   "id": "6ed37d55",
   "metadata": {},
   "source": [
    "## Importing Important libraries"
   ]
  },
  {
   "cell_type": "code",
   "execution_count": 1,
   "id": "b9c7607f",
   "metadata": {},
   "outputs": [],
   "source": [
    "from selenium import webdriver\n",
    "from selenium.webdriver.common.keys import Keys\n",
    "from selenium.webdriver.chrome.service import Service\n",
    "import time\n",
    "from selenium.common.exceptions import NoSuchElementException\n",
    "from selenium.common.exceptions import StaleElementReferenceException\n",
    "from selenium.common.exceptions import TimeoutException\n",
    "from selenium.webdriver.support.ui import WebDriverWait\n",
    "from selenium.webdriver.support import expected_conditions as EC\n",
    "from selenium.webdriver.common.by import By\n",
    "from selenium.webdriver.support.select import Select\n",
    "from bs4 import BeautifulSoup"
   ]
  },
  {
   "cell_type": "markdown",
   "id": "7ecc8120",
   "metadata": {},
   "source": [
    "## Starting Chrome WebDriver"
   ]
  },
  {
   "cell_type": "code",
   "execution_count": 2,
   "id": "b0c3c907",
   "metadata": {},
   "outputs": [],
   "source": [
    "service = Service(executable_path=\"C:\\Program Files\\Google\\Chrome\")\n",
    "driver = webdriver.Chrome(service = service)"
   ]
  },
  {
   "cell_type": "markdown",
   "id": "fb45fe8f",
   "metadata": {},
   "source": [
    "## Visiting Instagram"
   ]
  },
  {
   "cell_type": "markdown",
   "id": "1e8661ec",
   "metadata": {},
   "source": [
    "Visiting instagram and maximising the window"
   ]
  },
  {
   "cell_type": "code",
   "execution_count": 3,
   "id": "563f531a",
   "metadata": {},
   "outputs": [],
   "source": [
    "driver.get('https://www.instagram.com/')\n",
    "driver.maximize_window()"
   ]
  },
  {
   "cell_type": "markdown",
   "id": "eac255d0",
   "metadata": {},
   "source": [
    "## Visiting logging portal of Instagram:"
   ]
  },
  {
   "cell_type": "code",
   "execution_count": 4,
   "id": "01088479",
   "metadata": {},
   "outputs": [],
   "source": [
    "waiter=WebDriverWait(driver, 10).until(EC.presence_of_element_located((By.NAME, \"username\")))\n",
    "time.sleep(2)"
   ]
  },
  {
   "cell_type": "markdown",
   "id": "8d8481db",
   "metadata": {},
   "source": [
    "## Input Credentials:"
   ]
  },
  {
   "cell_type": "markdown",
   "id": "487a8d75",
   "metadata": {},
   "source": [
    "Make sure to input appropriate username and password."
   ]
  },
  {
   "cell_type": "code",
   "execution_count": 5,
   "id": "953738c7",
   "metadata": {},
   "outputs": [],
   "source": [
    "waiter=WebDriverWait(driver, 10).until(EC.presence_of_element_located((By.NAME, \"username\")))\n",
    "time.sleep(2)\n",
    "user_name = 'SAMPLE_USERNAME'\n",
    "password = 'SAMPLE_PASSWORD'\n",
    "user_box = driver.find_element(By.NAME,'username')\n",
    "user_box.send_keys(user_name)\n",
    "password_box = driver.find_element(By.NAME,'password')\n",
    "password_box.send_keys(password)\n",
    "Login_btn=driver.find_element(By.XPATH,\"//button[contains(@class,'_acan _acap _acas')]\").click()"
   ]
  },
  {
   "cell_type": "markdown",
   "id": "cab8a125",
   "metadata": {},
   "source": [
    "## Passing Save Login Info check"
   ]
  },
  {
   "cell_type": "code",
   "execution_count": 6,
   "id": "a63c7630",
   "metadata": {},
   "outputs": [],
   "source": [
    "waiter=WebDriverWait(driver,15).until(EC.element_to_be_clickable((By.CLASS_NAME,\"_acap\")))\n",
    "Now_now_btn=driver.find_element(By.CLASS_NAME,\"_acap\").click()"
   ]
  },
  {
   "cell_type": "markdown",
   "id": "b96d4bd1",
   "metadata": {},
   "source": [
    "## Supressing \"Turn On Notifications\" Window:"
   ]
  },
  {
   "cell_type": "code",
   "execution_count": 7,
   "id": "964ef43d",
   "metadata": {},
   "outputs": [],
   "source": [
    "waiter=WebDriverWait(driver,5).until(EC.element_to_be_clickable((By.XPATH,\"//button[contains(@class,'_a9-- ')]\")))\n",
    "driver.find_element(By.XPATH,\"//button[contains(@class,'_a9-- ')]\").click()"
   ]
  },
  {
   "cell_type": "markdown",
   "id": "5335fc1f",
   "metadata": {},
   "source": [
    "## Enabling the Search Box to recieve input:"
   ]
  },
  {
   "cell_type": "markdown",
   "id": "f220eac5",
   "metadata": {},
   "source": [
    "By clicking on it."
   ]
  },
  {
   "cell_type": "code",
   "execution_count": 65,
   "id": "f36b5978",
   "metadata": {},
   "outputs": [],
   "source": [
    "waiter=WebDriverWait(driver, 10).until(EC.presence_of_element_located((By.XPATH, \"//body[1]/div[2]/div[1]/div[1]/div[2]/div[1]/div[1]/div[1]/div[1]/div[1]/div[1]/div[1]/div[1]/div[1]/div[1]/div[2]/div[2]/span[1]/div[1]/a[1]/div[1]/div[2]\")))\n",
    "search_box = driver.find_element(By.XPATH,\"//body[1]/div[2]/div[1]/div[1]/div[2]/div[1]/div[1]/div[1]/div[1]/div[1]/div[1]/div[1]/div[1]/div[1]/div[1]/div[2]/div[2]/span[1]/div[1]/a[1]/div[1]/div[2]\").click()"
   ]
  },
  {
   "cell_type": "markdown",
   "id": "b2b19e20",
   "metadata": {},
   "source": [
    "## Input \"Food\" in the search box:"
   ]
  },
  {
   "cell_type": "code",
   "execution_count": 9,
   "id": "53702e0d",
   "metadata": {},
   "outputs": [],
   "source": [
    "search = driver.find_element(By.XPATH,\"//input[@placeholder='Search']\")\n",
    "search.send_keys('food')"
   ]
  },
  {
   "cell_type": "code",
   "execution_count": 11,
   "id": "c0c19ba6",
   "metadata": {},
   "outputs": [
    {
     "name": "stdout",
     "output_type": "stream",
     "text": [
      "delhi_streets_food\n",
      "food_lovers6103\n",
      "foodie_incarnate\n",
      "delicious_world_us\n",
      "ppleasant.food\n",
      "fast.food.aylar\n",
      "food\n",
      "tiktokerfoodie\n",
      "food._.post_\n",
      "dikshapatgirionlyfood\n",
      "food_discover_\n",
      "fcb.foods\n",
      "amish_mumbai_foodie\n",
      "amir_food_review\n",
      "all_the_food_you_need\n",
      "_foodscript_\n",
      "rezanayeb_food\n",
      "shamin65_food\n",
      "1best.foods\n",
      "foodrooaster\n",
      "food.crowd.ig\n",
      "jamshedpurwith_kd\n",
      "maryamm_food\n",
      "24fitness.food\n",
      "drfoodclinic\n",
      "hilii_food\n",
      "farahi.food\n",
      "maxfastfood04\n",
      "foodclubbax\n",
      "foodbyswag\n",
      "hamid_foodhub\n",
      "foodlover_lyf\n",
      "5.nicefood\n",
      "hiddeneatsla\n",
      "foodlovers_iq\n",
      "__fooball__united__\n",
      "food__diaries____\n",
      "lucknow_foodie\n",
      "foodhunt_with_shubham\n",
      "harrodsfood\n",
      "inlovewith_munich\n",
      "saoud_yaba_10\n",
      "_1deliciousfood\n",
      "sweetsimran339\n",
      "culturalfood75\n",
      "bhukkadghumakkkad\n",
      "thefoodyadda\n",
      "vegan_veganfood\n",
      "canada.explores\n",
      "so1_kf\n",
      "iran.best.food\n",
      "delhi_streets_food\n",
      "food_lovers6103\n",
      "foodie_incarnate\n",
      "delicious_world_us\n",
      "ppleasant.food\n",
      "fast.food.aylar\n",
      "food\n",
      "tiktokerfoodie\n",
      "food._.post_\n",
      "dikshapatgirionlyfood\n",
      "food_discover_\n",
      "fcb.foods\n",
      "amish_mumbai_foodie\n",
      "amir_food_review\n",
      "all_the_food_you_need\n",
      "_foodscript_\n",
      "rezanayeb_food\n",
      "shamin65_food\n",
      "1best.foods\n",
      "foodrooaster\n",
      "food.crowd.ig\n",
      "jamshedpurwith_kd\n",
      "maryamm_food\n",
      "24fitness.food\n",
      "drfoodclinic\n",
      "hilii_food\n",
      "farahi.food\n",
      "maxfastfood04\n",
      "foodclubbax\n",
      "foodbyswag\n",
      "hamid_foodhub\n",
      "foodlover_lyf\n",
      "5.nicefood\n",
      "hiddeneatsla\n",
      "foodlovers_iq\n",
      "__fooball__united__\n",
      "food__diaries____\n",
      "lucknow_foodie\n",
      "foodhunt_with_shubham\n",
      "harrodsfood\n",
      "inlovewith_munich\n",
      "saoud_yaba_10\n",
      "_1deliciousfood\n",
      "sweetsimran339\n",
      "culturalfood75\n",
      "bhukkadghumakkkad\n",
      "thefoodyadda\n",
      "vegan_veganfood\n",
      "canada.explores\n",
      "so1_kf\n",
      "iran.best.food\n"
     ]
    }
   ],
   "source": [
    "elements=driver.find_elements(By.XPATH,\"//a//div[@class='x9f619 xjbqb8w x78zum5 x168nmei x13lgxp2 x5pf9jr xo71vjh xxbr6pl xbbxn1n xwib8y2 x1y1aw1k x1uhb9sk x1plvlek xryxfnj x1c4vz4f x2lah0s xdt5ytf xqjyukv x1qjc9v5 x1oa3qoh x1nhvcw1']//div[@class='x9f619 x1n2onr6 x1ja2u2z x1qjc9v5 x78zum5 xdt5ytf x1iyjqo2 xl56j7k xeuugli']//div[@class='x9f619 x1n2onr6 x1ja2u2z x78zum5 x2lah0s x1qughib x6s0dn4 xozqiw3 x1q0g3np']//div[@class='x9f619 x1n2onr6 x1ja2u2z x78zum5 x1iyjqo2 xs83m0k xeuugli x1qughib x6s0dn4 x1a02dak x1q0g3np xdl72j9']//div[@class='x9f619 x1n2onr6 x1ja2u2z x78zum5 xdt5ytf x2lah0s x193iq5w xeuugli x1iyjqo2']//div[@class='x9f619 xjbqb8w x78zum5 x168nmei x13lgxp2 x5pf9jr xo71vjh x1uhb9sk x1plvlek xryxfnj x1iyjqo2 x2lwn1j xeuugli xdt5ytf xqjyukv x1cy8zhl x1oa3qoh x1nhvcw1']//div[@class='x9f619 xjbqb8w x78zum5 x168nmei x13lgxp2 x5pf9jr xo71vjh x1uhb9sk x1plvlek xryxfnj x1c4vz4f x2lah0s x1q0g3np xqjyukv x6s0dn4 x1oa3qoh x1nhvcw1']\")\n",
    "count=0\n",
    "while count<=len(elements):\n",
    "    try:\n",
    "        for i in elements:\n",
    "            handles_name = i.text\n",
    "            if '#' not in handles_name:\n",
    "                print(handles_name)\n",
    "                count+=1\n",
    "            else:\n",
    "                count+=1\n",
    "    except StaleElementReferenceException:\n",
    "        continue"
   ]
  },
  {
   "cell_type": "code",
   "execution_count": 12,
   "id": "736d05d5",
   "metadata": {},
   "outputs": [],
   "source": [
    "waiter=WebDriverWait(driver, 10).until(EC.presence_of_element_located((By.XPATH, \"//div[@aria-label='Clear the search box']\")))\n",
    "driver.find_element(By.XPATH,\"//div[@aria-label='Clear the search box']\").click()"
   ]
  },
  {
   "cell_type": "markdown",
   "id": "0e43d0d1",
   "metadata": {},
   "source": [
    "## Searching and Opening profile of \"So Delhi\" :"
   ]
  },
  {
   "cell_type": "code",
   "execution_count": 13,
   "id": "2fed8f11",
   "metadata": {},
   "outputs": [],
   "source": [
    "search = driver.find_element(By.XPATH,\"//input[@placeholder='Search']\")\n",
    "search.send_keys('So Delhi')"
   ]
  },
  {
   "cell_type": "code",
   "execution_count": 14,
   "id": "63c18af8",
   "metadata": {},
   "outputs": [],
   "source": [
    "waiter=WebDriverWait(driver, 10).until(EC.presence_of_element_located((By.XPATH, \"//a[@href='/sodelhi/']//div[@class='x9f619 xjbqb8w x78zum5 x168nmei x13lgxp2 x5pf9jr xo71vjh xxbr6pl xbbxn1n xwib8y2 x1y1aw1k x1uhb9sk x1plvlek xryxfnj x1c4vz4f x2lah0s xdt5ytf xqjyukv x1qjc9v5 x1oa3qoh x1nhvcw1']\")))\n",
    "driver.find_element(By.XPATH,\"//a[@href='/sodelhi/']//div[@class='x9f619 xjbqb8w x78zum5 x168nmei x13lgxp2 x5pf9jr xo71vjh xxbr6pl xbbxn1n xwib8y2 x1y1aw1k x1uhb9sk x1plvlek xryxfnj x1c4vz4f x2lah0s xdt5ytf xqjyukv x1qjc9v5 x1oa3qoh x1nhvcw1']\").click()\n"
   ]
  },
  {
   "cell_type": "markdown",
   "id": "073e4abc",
   "metadata": {},
   "source": [
    "## Following So Delhi :"
   ]
  },
  {
   "cell_type": "code",
   "execution_count": 15,
   "id": "c76adea5",
   "metadata": {},
   "outputs": [],
   "source": [
    "waiter=WebDriverWait(driver, 10).until(EC.presence_of_element_located((By.XPATH,\"//div[@class='_aacl _aaco _aacw _aad6 _aade']\")))\n",
    "if driver.find_element(By.XPATH,\"//div[@class='_aacl _aaco _aacw _aad6 _aade']\").get_attribute('innerHTML')=='Following':\n",
    "    print('You are already following the page!')\n",
    "else:\n",
    "    driver.find_element(By.XPATH,\"//div[@class='_aacl _aaco _aacw _aad6 _aade']\").click()\n",
    "waiter=WebDriverWait(driver, 10).until(EC.presence_of_element_located((By.XPATH,\"//div[@class='_aacl _aaco _aacw _aad6 _aade']\")))\n",
    "time.sleep(3)"
   ]
  },
  {
   "cell_type": "markdown",
   "id": "c61db049",
   "metadata": {},
   "source": [
    "## Unfollowing So Delhi :"
   ]
  },
  {
   "cell_type": "code",
   "execution_count": 16,
   "id": "d7976e7e",
   "metadata": {},
   "outputs": [],
   "source": [
    "if driver.find_element(By.XPATH,\"//div[@class='_aacl _aaco _aacw _aad6 _aade']\").get_attribute('innerHTML') =='Following':\n",
    "    driver.find_element(By.XPATH,\"//button[@type='button']\").click()\n",
    "    time.sleep(2)\n",
    "    driver.find_element(By.XPATH,\"//div[@class='x1n2onr6 xzkaem6']//div[8]//div[1]//div[1]//div[1]//div[1]//div[1]//div[1]\").click()\n",
    "else:\n",
    "    print('You have already unfollowed the page')"
   ]
  },
  {
   "cell_type": "markdown",
   "id": "48dea432",
   "metadata": {},
   "source": [
    "## Opening Profile of \"dilsefoodie\" :"
   ]
  },
  {
   "cell_type": "code",
   "execution_count": 17,
   "id": "83c78dcf",
   "metadata": {},
   "outputs": [],
   "source": [
    "waiter=WebDriverWait(driver, 10).until(EC.presence_of_element_located((By.XPATH, \"//body[1]/div[2]/div[1]/div[1]/div[2]/div[1]/div[1]/div[1]/div[1]/div[1]/div[1]/div[1]/div[1]/div[1]/div[1]/div[2]/div[2]/span[1]/div[1]/a[1]/div[1]/div[2]\")))\n",
    "search_box = driver.find_element(By.XPATH,\"//body[1]/div[2]/div[1]/div[1]/div[2]/div[1]/div[1]/div[1]/div[1]/div[1]/div[1]/div[1]/div[1]/div[1]/div[1]/div[2]/div[2]/span[1]/div[1]/a[1]/div[1]/div[2]\").click()\n",
    "search = driver.find_element(By.XPATH,\"//input[@placeholder='Search']\")\n",
    "search.send_keys('dilsefoodie')"
   ]
  },
  {
   "cell_type": "code",
   "execution_count": 18,
   "id": "703ce195",
   "metadata": {},
   "outputs": [],
   "source": [
    "waiter=WebDriverWait(driver, 10).until(EC.presence_of_element_located((By.XPATH, \"//a[@href='/dilsefoodie/']//div[@class='x9f619 xjbqb8w x78zum5 x168nmei x13lgxp2 x5pf9jr xo71vjh xxbr6pl xbbxn1n xwib8y2 x1y1aw1k x1uhb9sk x1plvlek xryxfnj x1c4vz4f x2lah0s xdt5ytf xqjyukv x1qjc9v5 x1oa3qoh x1nhvcw1']//div[@class='x9f619 x1n2onr6 x1ja2u2z x1qjc9v5 x78zum5 xdt5ytf x1iyjqo2 xl56j7k xeuugli']//div[@class='x9f619 x1n2onr6 x1ja2u2z x78zum5 x2lah0s x1qughib x6s0dn4 xozqiw3 x1q0g3np']//div[@class='x9f619 x1n2onr6 x1ja2u2z x78zum5 x1iyjqo2 xs83m0k xeuugli x1qughib x6s0dn4 x1a02dak x1q0g3np xdl72j9']//div[@class='x9f619 x1n2onr6 x1ja2u2z x78zum5 xdt5ytf x2lah0s x193iq5w xeuugli x1iyjqo2']//div[@class='x9f619 xjbqb8w x78zum5 x168nmei x13lgxp2 x5pf9jr xo71vjh x1uhb9sk x1plvlek xryxfnj x1iyjqo2 x2lwn1j xeuugli xdt5ytf xqjyukv x1cy8zhl x1oa3qoh x1nhvcw1']\")))\n",
    "driver.find_element(By.XPATH,\"//a[@href='/dilsefoodie/']//div[@class='x9f619 xjbqb8w x78zum5 x168nmei x13lgxp2 x5pf9jr xo71vjh xxbr6pl xbbxn1n xwib8y2 x1y1aw1k x1uhb9sk x1plvlek xryxfnj x1c4vz4f x2lah0s xdt5ytf xqjyukv x1qjc9v5 x1oa3qoh x1nhvcw1']//div[@class='x9f619 x1n2onr6 x1ja2u2z x1qjc9v5 x78zum5 xdt5ytf x1iyjqo2 xl56j7k xeuugli']//div[@class='x9f619 x1n2onr6 x1ja2u2z x78zum5 x2lah0s x1qughib x6s0dn4 xozqiw3 x1q0g3np']//div[@class='x9f619 x1n2onr6 x1ja2u2z x78zum5 x1iyjqo2 xs83m0k xeuugli x1qughib x6s0dn4 x1a02dak x1q0g3np xdl72j9']//div[@class='x9f619 x1n2onr6 x1ja2u2z x78zum5 xdt5ytf x2lah0s x193iq5w xeuugli x1iyjqo2']//div[@class='x9f619 xjbqb8w x78zum5 x168nmei x13lgxp2 x5pf9jr xo71vjh x1uhb9sk x1plvlek xryxfnj x1iyjqo2 x2lwn1j xeuugli xdt5ytf xqjyukv x1cy8zhl x1oa3qoh x1nhvcw1']\").click()\n",
    "time.sleep(3)"
   ]
  },
  {
   "cell_type": "markdown",
   "id": "94e017d6",
   "metadata": {},
   "source": [
    "## Scrolling manually to load elements:"
   ]
  },
  {
   "cell_type": "code",
   "execution_count": 28,
   "id": "690513a8",
   "metadata": {},
   "outputs": [],
   "source": [
    "driver.execute_script('window.scrollBy(0, 3000);')\n",
    "time.sleep(2.5)\n",
    "driver.execute_script('window.scrollBy(0, 3000);')\n",
    "time.sleep(2.5)\n",
    "waiter=WebDriverWait(driver, 10).until(EC.presence_of_element_located((By.CLASS_NAME, '_aagw')))"
   ]
  },
  {
   "cell_type": "markdown",
   "id": "bf627dfa",
   "metadata": {},
   "source": [
    "## Liking 30 posts of dilsefoodie:"
   ]
  },
  {
   "cell_type": "code",
   "execution_count": 29,
   "id": "01083324",
   "metadata": {},
   "outputs": [
    {
     "name": "stdout",
     "output_type": "stream",
     "text": [
      "Liked All(30)!\n"
     ]
    }
   ],
   "source": [
    "count=0\n",
    "driver.find_element(By.CLASS_NAME,\"_aagw\").click()\n",
    "while True:\n",
    "    trier=WebDriverWait(driver, 10).until(EC.presence_of_element_located((By.XPATH,\n",
    "                                                                    \"//span[@class='_aamw']\")))\n",
    "    \n",
    "    try:\n",
    "        WebDriverWait(driver, 5).until(EC.presence_of_element_located((By.XPATH, \"//span[@class='_aamw']\")))\n",
    "        time.sleep(0.8)\n",
    "        driver.find_element(By.XPATH,\"//span[@class='_aamw']\").click()\n",
    "    except NoSuchElementException:\n",
    "        print('Already Liked!')\n",
    "    driver.find_element(By.XPATH,\"//div[@class=' _aaqg _aaqh']//button[@type='button']\").click()\n",
    "    count+=1\n",
    "    time.sleep(0.3)\n",
    "    if count==30:\n",
    "        print('Liked All(30)!')\n",
    "        break\n",
    "waiter=WebDriverWait(driver, 10).until(EC.presence_of_element_located((By.CLASS_NAME, '_aagw')))\n",
    "time.sleep(2)\n",
    "driver.execute_script('window.scrollTo(0, 0)')\n",
    "driver.find_element(By.XPATH,\"//div[@class='x160vmok x10l6tqk x1eu8d0j x1vjfegm']//div[@role='button']\").click()\n",
    "time.sleep(2.5)"
   ]
  },
  {
   "cell_type": "code",
   "execution_count": 30,
   "id": "d75b2359",
   "metadata": {},
   "outputs": [],
   "source": [
    "driver.execute_script('window.scrollBy(0, -3000);')\n",
    "time.sleep(2.5)\n",
    "waiter=WebDriverWait(driver, 10).until(EC.presence_of_element_located((By.CLASS_NAME, '_aagw')))"
   ]
  },
  {
   "cell_type": "markdown",
   "id": "4f1f3e21",
   "metadata": {},
   "source": [
    "## Unliking 30 posts of dilsefoodie:"
   ]
  },
  {
   "cell_type": "code",
   "execution_count": 31,
   "id": "0c57c298",
   "metadata": {},
   "outputs": [
    {
     "name": "stdout",
     "output_type": "stream",
     "text": [
      "UnLiked All(30)!\n"
     ]
    }
   ],
   "source": [
    "# waiter=WebDriverWait(driver, 10).until(EC.presence_of_element_located((By.CLASS_NAME, '_aagw')))\n",
    "count=0\n",
    "driver.find_element(By.CLASS_NAME,\"_aagw\").click()\n",
    "while True:\n",
    "    trier=WebDriverWait(driver, 10).until(EC.element_to_be_clickable((By.XPATH,\n",
    "                                                                    \"//span[@class='_aamw']\")))\n",
    "    \n",
    "    try:\n",
    "        WebDriverWait(driver, 5).until(EC.presence_of_element_located((By.XPATH, \"//span[@class='_aamw']\")))\n",
    "        driver.find_element(By.XPATH,\"//span[@class='_aamw']\").click()\n",
    "    except NoSuchElementException:\n",
    "        print('Already UnLiked!')\n",
    "    driver.find_element(By.XPATH,\"//div[@class=' _aaqg _aaqh']//button[@type='button']\").click()\n",
    "    count+=1\n",
    "    time.sleep(0.3)\n",
    "    if count==30:\n",
    "        print('UnLiked All(30)!')\n",
    "        break\n",
    "time.sleep(2)\n",
    "driver.find_element(By.XPATH,\"//div[@class='x160vmok x10l6tqk x1eu8d0j x1vjfegm']//div[@role='button']\").click()"
   ]
  },
  {
   "cell_type": "markdown",
   "id": "0ae74170",
   "metadata": {},
   "source": [
    "## Opening sodelhi"
   ]
  },
  {
   "cell_type": "code",
   "execution_count": 32,
   "id": "77e79813",
   "metadata": {},
   "outputs": [],
   "source": [
    "waiter=WebDriverWait(driver, 10).until(EC.presence_of_element_located((By.XPATH, \"//body[1]/div[2]/div[1]/div[1]/div[2]/div[1]/div[1]/div[1]/div[1]/div[1]/div[1]/div[1]/div[1]/div[1]/div[1]/div[2]/div[2]/span[1]/div[1]/a[1]/div[1]/div[2]\")))\n",
    "search_box = driver.find_element(By.XPATH,\"//body[1]/div[2]/div[1]/div[1]/div[2]/div[1]/div[1]/div[1]/div[1]/div[1]/div[1]/div[1]/div[1]/div[1]/div[1]/div[2]/div[2]/span[1]/div[1]/a[1]/div[1]/div[2]\").click()\n",
    "search = driver.find_element(By.XPATH,\"//input[@placeholder='Search']\")\n",
    "search.send_keys('sodelhi')\n",
    "waiter=WebDriverWait(driver, 10).until(EC.presence_of_element_located((By.XPATH, \"//a[@href='/sodelhi/']//div[@class='x9f619 xjbqb8w x78zum5 x168nmei x13lgxp2 x5pf9jr xo71vjh xxbr6pl xbbxn1n xwib8y2 x1y1aw1k x1uhb9sk x1plvlek xryxfnj x1c4vz4f x2lah0s xdt5ytf xqjyukv x1qjc9v5 x1oa3qoh x1nhvcw1']\")))\n",
    "driver.find_element(By.XPATH,\"//a[@href='/sodelhi/']//div[@class='x9f619 xjbqb8w x78zum5 x168nmei x13lgxp2 x5pf9jr xo71vjh xxbr6pl xbbxn1n xwib8y2 x1y1aw1k x1uhb9sk x1plvlek xryxfnj x1c4vz4f x2lah0s xdt5ytf xqjyukv x1qjc9v5 x1oa3qoh x1nhvcw1']\").click()"
   ]
  },
  {
   "cell_type": "code",
   "execution_count": 33,
   "id": "04236965",
   "metadata": {},
   "outputs": [],
   "source": [
    "waiter=WebDriverWait(driver, 10).until(EC.presence_of_element_located((By.XPATH, \"//a[contains(@href,'/sodelhi/followers/')]\")))\n",
    "driver.find_element(By.XPATH,\"//a[contains(@href,'/sodelhi/followers/')]\").click()"
   ]
  },
  {
   "cell_type": "code",
   "execution_count": 34,
   "id": "a458c5e0",
   "metadata": {},
   "outputs": [
    {
     "data": {
      "text/plain": [
       "['adnan_qureshi31',\n",
       " 'i_yashtaneja',\n",
       " 'abhishek_sachan02',\n",
       " '55505369853.pubg',\n",
       " 'sikandtarun',\n",
       " 'choudharydeepti06',\n",
       " 'rrishabh_jain_',\n",
       " 'arth7040',\n",
       " 'mistary637',\n",
       " 'naira_agarwal17',\n",
       " 'lavikkashyap',\n",
       " 'deepakuppcl1978',\n",
       " 'oopraveshoo',\n",
       " 'travel_ith_ks_',\n",
       " 'achintyaa',\n",
       " 'abhi.laddha21',\n",
       " '_5piyu',\n",
       " 'abhinav_pal_saurabh',\n",
       " 'amita.dumyan',\n",
       " 'denziesss',\n",
       " 'rohini_0044',\n",
       " 'ganeshshivaji37',\n",
       " 'mithi9611',\n",
       " 'dr.deepkriti',\n",
       " 'akshdeepsingh',\n",
       " 'raspreetsingh_1987',\n",
       " 'ayush._.sharma27',\n",
       " 'arushiasiwal',\n",
       " 'hitesh_kumar_gupta',\n",
       " 'yuktiii_004',\n",
       " 'stylishboy7719',\n",
       " 'jagdevmandal90260',\n",
       " 'jaydeepsindha_1490',\n",
       " 'manchmanthan',\n",
       " 'rayeeofpink',\n",
       " 'guneetkaur22',\n",
       " 'superstarboy65',\n",
       " '_abhinav1394_',\n",
       " '_rahul_aggarwal_15',\n",
       " 'sumitt.x00',\n",
       " 'bakiyalakshmi30',\n",
       " 'rahulgauba',\n",
       " 'catchhunnymehra',\n",
       " 'tanvimehra1985',\n",
       " 'amit198645',\n",
       " 'mdd_anishkhan786',\n",
       " 'rupanshiarora148',\n",
       " 'pankaj.rao98',\n",
       " 'ankitabangaree',\n",
       " 'rahul_mehta1111']"
      ]
     },
     "execution_count": 34,
     "metadata": {},
     "output_type": "execute_result"
    }
   ],
   "source": [
    "while True:\n",
    "    try:\n",
    "        sodelhi=[]\n",
    "        count=0\n",
    "        while True:\n",
    "            elements=driver.find_elements(By.XPATH,'//div[@class=\"x9f619 xjbqb8w x1rg5ohu x168nmei x13lgxp2 x5pf9jr xo71vjh x1n2onr6 x1plvlek xryxfnj x1c4vz4f x2lah0s x1q0g3np xqjyukv x6s0dn4 x1oa3qoh x1nhvcw1\"]')\n",
    "            if count%12==0:\n",
    "                followers_window =driver.find_element(By.XPATH,'//div[contains(@class,\"_aanq\")]')\n",
    "                followers_window.click()\n",
    "                time.sleep(5)\n",
    "            i=elements[count]\n",
    "            sodelhi.append(i.get_attribute('innerHTML'))\n",
    "            if len(sodelhi)>=500:\n",
    "                break\n",
    "            count+=1\n",
    "        break\n",
    "    except StaleElementReferenceException:\n",
    "        continue\n",
    "sodelhi"
   ]
  },
  {
   "cell_type": "code",
   "execution_count": 35,
   "id": "881be7b8",
   "metadata": {},
   "outputs": [],
   "source": [
    "driver.find_element(By.CLASS_NAME,\"_abl-\").click()"
   ]
  },
  {
   "cell_type": "code",
   "execution_count": 36,
   "id": "cd455338",
   "metadata": {},
   "outputs": [],
   "source": [
    "waiter=WebDriverWait(driver, 10).until(EC.presence_of_element_located((By.XPATH, \"//body[1]/div[2]/div[1]/div[1]/div[2]/div[1]/div[1]/div[1]/div[1]/div[1]/div[1]/div[1]/div[1]/div[1]/div[1]/div[2]/div[2]/span[1]/div[1]/a[1]/div[1]/div[2]\")))\n",
    "search_box = driver.find_element(By.XPATH,\"//body[1]/div[2]/div[1]/div[1]/div[2]/div[1]/div[1]/div[1]/div[1]/div[1]/div[1]/div[1]/div[1]/div[1]/div[1]/div[2]/div[2]/span[1]/div[1]/a[1]/div[1]/div[2]\").click()\n",
    "search = driver.find_element(By.XPATH,\"//input[@placeholder='Search']\")\n",
    "search.send_keys('foodtalkindia')\n",
    "waiter=WebDriverWait(driver, 10).until(EC.presence_of_element_located((By.XPATH, \"//a[@href='/foodtalkindia/']//div[@class='x9f619 xjbqb8w x78zum5 x168nmei x13lgxp2 x5pf9jr xo71vjh xxbr6pl xbbxn1n xwib8y2 x1y1aw1k x1uhb9sk x1plvlek xryxfnj x1c4vz4f x2lah0s xdt5ytf xqjyukv x1qjc9v5 x1oa3qoh x1nhvcw1']\")))\n",
    "driver.find_element(By.XPATH,\"//a[@href='/foodtalkindia/']//div[@class='x9f619 xjbqb8w x78zum5 x168nmei x13lgxp2 x5pf9jr xo71vjh xxbr6pl xbbxn1n xwib8y2 x1y1aw1k x1uhb9sk x1plvlek xryxfnj x1c4vz4f x2lah0s xdt5ytf xqjyukv x1qjc9v5 x1oa3qoh x1nhvcw1']\").click()"
   ]
  },
  {
   "cell_type": "code",
   "execution_count": 37,
   "id": "e1247007",
   "metadata": {},
   "outputs": [],
   "source": [
    "waiter=WebDriverWait(driver, 10).until(EC.presence_of_element_located((By.XPATH, \"//a[@href='/foodtalkindia/followers/']\")))\n",
    "driver.find_element(By.XPATH,\"//a[@href='/foodtalkindia/followers/']\").click()"
   ]
  },
  {
   "cell_type": "code",
   "execution_count": 39,
   "id": "11787e2e",
   "metadata": {},
   "outputs": [
    {
     "data": {
      "text/plain": [
       "['adityki2023',\n",
       " 'vistazoa_mi_viaje',\n",
       " 'mohan_st2545',\n",
       " 'sports._.player_',\n",
       " 'ajay_raj_yadav_ji',\n",
       " 'alyssa_776_alise_kz',\n",
       " '_ameen_saify_pvt',\n",
       " 'anillkhanna',\n",
       " 'back_to_basic7',\n",
       " 'beleisabel',\n",
       " 'chhayabadani',\n",
       " 'chowamigo',\n",
       " 'dondon123458',\n",
       " 'ethybo_chophymi',\n",
       " 'deepikashhukla',\n",
       " 'i.eat.f00d',\n",
       " 'itsme_devapriya',\n",
       " 'dilson_vadakkan',\n",
       " 'f_wealty088',\n",
       " 'harsh_k72',\n",
       " 'indianfeastrecipe',\n",
       " 'janainah.f',\n",
       " 'johnysvadapav',\n",
       " 'modal_queen_5361',\n",
       " 'kashishsharma_',\n",
       " 'mmadhupriti',\n",
       " 'ms_mage_',\n",
       " 'mamta.verma_1',\n",
       " 'manik_gandotra',\n",
       " 'manish_raj7704',\n",
       " 'mansoorimaqsood',\n",
       " 'mitisha555',\n",
       " '_m_o_u_s_a_m_b_i_s_e_n',\n",
       " 'mr_gani_____46',\n",
       " 'nidzlens',\n",
       " 'pallaviavida_nm',\n",
       " 'priyanshi_kumar',\n",
       " 'pmittal76',\n",
       " 'kalra.poonam',\n",
       " 'popcornmagicmasala',\n",
       " '__pravin_697',\n",
       " '__pk__2420',\n",
       " 'rahulraj931048',\n",
       " 'ravneetsingh2246',\n",
       " 'richa.curryit']"
      ]
     },
     "execution_count": 39,
     "metadata": {},
     "output_type": "execute_result"
    }
   ],
   "source": [
    "while True:\n",
    "    try:\n",
    "        foodTalkIndia=[]\n",
    "        count=0\n",
    "        while True:\n",
    "            elements=driver.find_elements(By.XPATH,'//div[@class=\"x9f619 xjbqb8w x1rg5ohu x168nmei x13lgxp2 x5pf9jr xo71vjh x1n2onr6 x1plvlek xryxfnj x1c4vz4f x2lah0s x1q0g3np xqjyukv x6s0dn4 x1oa3qoh x1nhvcw1\"]')\n",
    "            i=elements[count]\n",
    "            foodTalkIndia.append(i.get_attribute('innerHTML'))\n",
    "            if len(foodTalkIndia)>=45:\n",
    "                break\n",
    "            count+=1\n",
    "        break\n",
    "    except StaleElementReferenceException:\n",
    "        continue\n",
    "foodTalkIndia"
   ]
  },
  {
   "cell_type": "code",
   "execution_count": 40,
   "id": "9f8e671c",
   "metadata": {},
   "outputs": [],
   "source": [
    "driver.find_element(By.CLASS_NAME,\"_abl-\").click()\n",
    "time.sleep(3)"
   ]
  },
  {
   "cell_type": "markdown",
   "id": "06a71212",
   "metadata": {},
   "source": [
    "## Printing all the followers of \"foodtalkindia\" that user is following but those who don't follow the user:"
   ]
  },
  {
   "cell_type": "markdown",
   "id": "38195064",
   "metadata": {},
   "source": [
    "I did this by extracting and saving a list of all the user's followers(myfollowers) and those who are followed by the user(following). and getting the answer by using \"(followers_of_foodtalkindia_that_user_is_following)-(user's_followers)\""
   ]
  },
  {
   "cell_type": "code",
   "execution_count": 41,
   "id": "d22c3043",
   "metadata": {},
   "outputs": [],
   "source": [
    "waiter=WebDriverWait(driver, 10).until(EC.presence_of_element_located((By.XPATH,\"//div[@class='x9f619 xxk0z11 xii2z7h x11xpdln x19c4wfv xvy4d1p']//span[@role='link']\")))\n",
    "driver.find_element(By.XPATH,\"//div[@class='x9f619 xxk0z11 xii2z7h x11xpdln x19c4wfv xvy4d1p']//span[@role='link']\").click()\n",
    "time.sleep(3)"
   ]
  },
  {
   "cell_type": "code",
   "execution_count": 42,
   "id": "72a5f6af",
   "metadata": {},
   "outputs": [],
   "source": [
    "total_followers=int(driver.find_element(By.XPATH,\"//span[contains(text(),'11')]\").get_attribute('innerHTML'))\n",
    "driver.find_element(By.XPATH,\"//body[1]/div[2]/div[1]/div[1]/div[2]/div[1]/div[1]/div[1]/div[1]/div[1]/div[2]/div[2]/section[1]/main[1]/div[1]/header[1]/section[1]/ul[1]/li[2]/a[1]\").click()\n",
    "waiter=WebDriverWait(driver, 10).until(EC.presence_of_element_located((By.CLASS_NAME,\"_aano\")))"
   ]
  },
  {
   "cell_type": "code",
   "execution_count": 43,
   "id": "f5fcc6cb",
   "metadata": {},
   "outputs": [],
   "source": [
    "while True:\n",
    "    try:\n",
    "        myfollowers=[]\n",
    "        count=0\n",
    "        while True:\n",
    "            elements=driver.find_elements(By.XPATH,'//div[@class=\"x9f619 xjbqb8w x1rg5ohu x168nmei x13lgxp2 x5pf9jr xo71vjh x1n2onr6 x1plvlek xryxfnj x1c4vz4f x2lah0s x1q0g3np xqjyukv x6s0dn4 x1oa3qoh x1nhvcw1\"]')                \n",
    "            i=elements[count]\n",
    "            myfollowers.append(i.get_attribute('innerHTML'))\n",
    "            if len(myfollowers)==total_followers:\n",
    "                break\n",
    "            count+=1\n",
    "        break\n",
    "    except StaleElementReferenceException:\n",
    "        continue\n",
    "waiter=WebDriverWait(driver, 10).until(EC.presence_of_element_located((By.CLASS_NAME,\"_abl-\")))"
   ]
  },
  {
   "cell_type": "code",
   "execution_count": 44,
   "id": "20750110",
   "metadata": {},
   "outputs": [],
   "source": [
    "driver.find_element(By.CLASS_NAME,\"_abl-\").click()\n",
    "waiter=WebDriverWait(driver, 10).until(EC.presence_of_element_located((By.XPATH,\"//li[3]//a[1]\")))"
   ]
  },
  {
   "cell_type": "code",
   "execution_count": 45,
   "id": "1a6c7052",
   "metadata": {},
   "outputs": [],
   "source": [
    "total_following=(driver.find_elements(By.XPATH,\"//span[contains(text(),'1,599')]\")[0].get_attribute('innerHTML'))\n",
    "if ','in total_following:\n",
    "    total_following = int(total_following.replace(\",\",\"\"))\n",
    "else:\n",
    "    total_following = int(total_following)\n",
    "driver.find_elements(By.XPATH,\"//body[1]/div[2]/div[1]/div[1]/div[2]/div[1]/div[1]/div[1]/div[1]/div[1]/div[2]/div[2]/section[1]/main[1]/div[1]/header[1]/section[1]/ul[1]/li[3]/a[1]\")[0].click()\n",
    "waiter=WebDriverWait(driver, 10).until(EC.presence_of_element_located((By.CLASS_NAME,\"_aano\")))"
   ]
  },
  {
   "cell_type": "code",
   "execution_count": 47,
   "id": "a4c0e996",
   "metadata": {},
   "outputs": [
    {
     "data": {
      "text/plain": [
       "['the.eendx',\n",
       " 's7ii',\n",
       " '_innovateweb_',\n",
       " '_wellnessmax_',\n",
       " '_qtera_',\n",
       " '_fortstone_',\n",
       " 'gwendawhatever',\n",
       " 'diyarghafour<div class=\"x9f619 xjbqb8w x1rg5ohu x168nmei x13lgxp2 x5pf9jr xo71vjh xsgj6o6 x1n2onr6 x1plvlek xryxfnj x1c4vz4f x2lah0s xdt5ytf xqjyukv x1qjc9v5 x1oa3qoh x1nhvcw1\"><svg aria-label=\"Verified\" class=\"x1lliihq x1n2onr6\" color=\"rgb(0, 149, 246)\" fill=\"rgb(0, 149, 246)\" height=\"12\" role=\"img\" viewBox=\"0 0 40 40\" width=\"12\"><title>Verified</title><path d=\"M19.998 3.094 14.638 0l-2.972 5.15H5.432v6.354L0 14.64 3.094 20 0 25.359l5.432 3.137v5.905h5.975L14.638 40l5.36-3.094L25.358 40l3.232-5.6h6.162v-6.01L40 25.359 36.905 20 40 14.641l-5.248-3.03v-6.46h-6.419L25.358 0l-5.36 3.094Zm7.415 11.225 2.254 2.287-11.43 11.5-6.835-6.93 2.244-2.258 4.587 4.581 9.18-9.18Z\" fill-rule=\"evenodd\"></path></svg></div>',\n",
       " '_coverstorykids_',\n",
       " '__vaishu__x0',\n",
       " 'r97_',\n",
       " '_success.idea_',\n",
       " '10j_w',\n",
       " 'i_avi_shah_',\n",
       " 'phi_boldbrows_khallat',\n",
       " '_americanpoet_',\n",
       " '__khan__saab__74',\n",
       " 'ali_._leader',\n",
       " '_lavelleart_',\n",
       " 'avid_asil',\n",
       " '_eternalflame.com_',\n",
       " 'center_o3',\n",
       " 'ravindr_lodhi',\n",
       " 'sabaj.ali.35',\n",
       " 'porya.behrad7',\n",
       " '11bbu',\n",
       " 'xgeidax',\n",
       " 'anish__munian2000',\n",
       " '9yyk2',\n",
       " 'mo_uh3',\n",
       " 'legend_x_siddhu__',\n",
       " '100k1997',\n",
       " 'mr_ck_tigar_2014',\n",
       " 'ramkishan__sihag',\n",
       " 'upsc_wala_aakash',\n",
       " '_listermantea_',\n",
       " '136.a0',\n",
       " 'active_prayagi',\n",
       " '_capitalforce_',\n",
       " 'mr.mohitpanchall',\n",
       " 'sk_siruu',\n",
       " 'p1_l9',\n",
       " 'its_singh_9560_',\n",
       " 'official_imran_50',\n",
       " 'nestora.sosa',\n",
       " 'bualwan966',\n",
       " 'pp.7',\n",
       " 'nehal_singh_rajput9262',\n",
       " 'officialdeep5684',\n",
       " 'ba_altaei']"
      ]
     },
     "execution_count": 47,
     "metadata": {},
     "output_type": "execute_result"
    }
   ],
   "source": [
    "while True:\n",
    "    try:\n",
    "        following=[]\n",
    "        count=0\n",
    "        while True:\n",
    "            elements=driver.find_elements(By.XPATH,'//div[@class=\"x9f619 xjbqb8w x1rg5ohu x168nmei x13lgxp2 x5pf9jr xo71vjh x1n2onr6 x1plvlek xryxfnj x1c4vz4f x2lah0s x1q0g3np xqjyukv x6s0dn4 x1oa3qoh x1nhvcw1\"]')\n",
    "            if count%12==0:\n",
    "                waiter=WebDriverWait(driver, 10).until(EC.presence_of_element_located((By.CLASS_NAME,\"_aanq\")))\n",
    "                driver.find_element(By.CLASS_NAME,\"_aanq\").click()\n",
    "                time.sleep(5)\n",
    "            i=elements[count]\n",
    "            following.append(i.get_attribute('innerHTML'))\n",
    "            if len(following)==total_following:\n",
    "                break\n",
    "            count+=1\n",
    "        break\n",
    "    except StaleElementReferenceException:\n",
    "        continue\n",
    "following"
   ]
  },
  {
   "cell_type": "code",
   "execution_count": 50,
   "id": "3048424b",
   "metadata": {},
   "outputs": [],
   "source": [
    "waiter=WebDriverWait(driver, 10).until(EC.presence_of_element_located((By.CLASS_NAME,\"_abl-\")))\n",
    "driver.find_element(By.CLASS_NAME,\"_abl-\").click()"
   ]
  },
  {
   "cell_type": "code",
   "execution_count": 51,
   "id": "af0b00a5",
   "metadata": {},
   "outputs": [
    {
     "name": "stdout",
     "output_type": "stream",
     "text": [
      "Given below is a set of all the followers of “foodtalkindia” that I am following but those who don’t follow me.\n",
      "--->No such followers\n"
     ]
    }
   ],
   "source": [
    "following=set(following)\n",
    "myfollowers=set(myfollowers)\n",
    "foodTalkIndia=set(foodTalkIndia)\n",
    "followers_of_foodtalkindia_that_i_am_following= following.intersection(foodTalkIndia)\n",
    "print('Given below is a set of all the followers of “foodtalkindia” that I am following but those who don’t follow me.')\n",
    "if len(followers_of_foodtalkindia_that_i_am_following-myfollowers)==0:\n",
    "    print(\"--->No such followers\")\n",
    "for i in followers_of_foodtalkindia_that_i_am_following-myfollowers:\n",
    "    print(i)"
   ]
  },
  {
   "cell_type": "markdown",
   "id": "4a769689",
   "metadata": {},
   "source": [
    "## Visiting Coding Ninjas and checking their story with given conditions:"
   ]
  },
  {
   "cell_type": "code",
   "execution_count": 69,
   "id": "91423184",
   "metadata": {},
   "outputs": [],
   "source": [
    "waiter=WebDriverWait(driver, 10).until(EC.presence_of_element_located((By.XPATH, \"//body[1]/div[2]/div[1]/div[1]/div[2]/div[1]/div[1]/div[1]/div[1]/div[1]/div[1]/div[1]/div[1]/div[1]/div[1]/div[2]/div[2]/span[1]/div[1]/a[1]/div[1]/div[2]\")))\n",
    "search_box = driver.find_element(By.XPATH,\"//body[1]/div[2]/div[1]/div[1]/div[2]/div[1]/div[1]/div[1]/div[1]/div[1]/div[1]/div[1]/div[1]/div[1]/div[1]/div[2]/div[2]/span[1]/div[1]/a[1]/div[1]/div[2]\").click()\n",
    "search = driver.find_element(By.XPATH,\"//input[@placeholder='Search']\")\n",
    "search.send_keys('coding.ninjas')\n",
    "waiter=WebDriverWait(driver, 10).until(EC.presence_of_element_located((By.XPATH,\"//a[contains(@href,'/coding.ninjas/')]//div[contains(@class,'x9f619 xjbqb8w x78zum5 x168nmei x13lgxp2 x5pf9jr xo71vjh xxbr6pl xbbxn1n xwib8y2 x1y1aw1k x1uhb9sk x1plvlek xryxfnj x1c4vz4f x2lah0s xdt5ytf xqjyukv x1qjc9v5 x1oa3qoh x1nhvcw1')]\")))\n",
    "driver.find_element(By.XPATH,\"//a[contains(@href,'/coding.ninjas/')]//div[contains(@class,'x9f619 xjbqb8w x78zum5 x168nmei x13lgxp2 x5pf9jr xo71vjh xxbr6pl xbbxn1n xwib8y2 x1y1aw1k x1uhb9sk x1plvlek xryxfnj x1c4vz4f x2lah0s xdt5ytf xqjyukv x1qjc9v5 x1oa3qoh x1nhvcw1')]\").click()"
   ]
  },
  {
   "cell_type": "code",
   "execution_count": 70,
   "id": "6b26e190",
   "metadata": {},
   "outputs": [
    {
     "name": "stdout",
     "output_type": "stream",
     "text": [
      "You have already seen the story!\n"
     ]
    }
   ],
   "source": [
    "try:\n",
    "    if int(driver.find_element(By.XPATH,\"//canvas[@class='_aarh']\").get_attribute('height'))==168:\n",
    "        print('You have not seen the story yet! The story will be shown to you now. check out the driver window')\n",
    "        driver.find_element(By.XPATH,\"//div[@class='_aarf _aarg']\").click()\n",
    "    elif int(driver.find_element(By.XPATH,\"//canvas[@class='_aarh']\").get_attribute('height'))==166:\n",
    "        print('You have already seen the story!')\n",
    "except NoSuchElementException:\n",
    "    print('The user has no story!')"
   ]
  }
 ],
 "metadata": {
  "kernelspec": {
   "display_name": "Python 3 (ipykernel)",
   "language": "python",
   "name": "python3"
  },
  "language_info": {
   "codemirror_mode": {
    "name": "ipython",
    "version": 3
   },
   "file_extension": ".py",
   "mimetype": "text/x-python",
   "name": "python",
   "nbconvert_exporter": "python",
   "pygments_lexer": "ipython3",
   "version": "3.10.9"
  }
 },
 "nbformat": 4,
 "nbformat_minor": 5
}
